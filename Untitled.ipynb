{
 "cells": [
  {
   "cell_type": "code",
   "execution_count": 1,
   "id": "2de104c0-4d45-4b61-b575-43299fe64dbb",
   "metadata": {},
   "outputs": [],
   "source": [
    "import numpy as np"
   ]
  },
  {
   "cell_type": "code",
   "execution_count": 2,
   "id": "82b703fa-5b4e-4631-b06b-935691212f7f",
   "metadata": {},
   "outputs": [
    {
     "name": "stdout",
     "output_type": "stream",
     "text": [
      "x =\n",
      " [[6 1 4]\n",
      " [4 8 4]\n",
      " [6 3 5]] \n",
      " y =\n",
      " [[8 7 9]\n",
      " [9 2 7]\n",
      " [8 8 9]] \n",
      " z =\n",
      " [1 3 5]\n"
     ]
    }
   ],
   "source": [
    "np.random.seed(0)\n",
    "x = np.random.randint(1,10,(3,3))\n",
    "y = np.random.randint(1,10,(3,3))\n",
    "z = np.array([1,3, 5])\n",
    "print('x =\\n', x , '\\n', 'y =\\n', y,'\\n', 'z =\\n', z)"
   ]
  },
  {
   "cell_type": "code",
   "execution_count": 3,
   "id": "838710d5-a7fd-41e5-95ec-9eaf31d09a80",
   "metadata": {},
   "outputs": [
    {
     "data": {
      "text/plain": [
       "array([[6, 1, 4, 8, 7, 9],\n",
       "       [4, 8, 4, 9, 2, 7],\n",
       "       [6, 3, 5, 8, 8, 9]])"
      ]
     },
     "execution_count": 3,
     "metadata": {},
     "output_type": "execute_result"
    }
   ],
   "source": [
    "result = np.hstack([x, y])\n",
    "result"
   ]
  },
  {
   "cell_type": "code",
   "execution_count": 12,
   "id": "452fcc18-0ee1-415a-bb61-4dfbafd81085",
   "metadata": {},
   "outputs": [
    {
     "data": {
      "text/plain": [
       "array([[0.3927848 , 0.83607876, 0.33739616, 0.64817187],\n",
       "       [0.36824154, 0.95715516, 0.14035078, 0.87008726],\n",
       "       [0.47360805, 0.80091075, 0.52047748, 0.67887953]])"
      ]
     },
     "execution_count": 12,
     "metadata": {},
     "output_type": "execute_result"
    }
   ],
   "source": [
    "M = np.random.random((3, 4))\n",
    "M"
   ]
  },
  {
   "cell_type": "code",
   "execution_count": 15,
   "id": "274812ed-8064-4632-a41f-9e5906456b30",
   "metadata": {},
   "outputs": [
    {
     "data": {
      "text/plain": [
       "array([2.21443159, 2.33583474, 2.47387581])"
      ]
     },
     "execution_count": 15,
     "metadata": {},
     "output_type": "execute_result"
    }
   ],
   "source": [
    "M.sum(axis=1)"
   ]
  }
 ],
 "metadata": {
  "kernelspec": {
   "display_name": "Python 3 (ipykernel)",
   "language": "python",
   "name": "python3"
  },
  "language_info": {
   "codemirror_mode": {
    "name": "ipython",
    "version": 3
   },
   "file_extension": ".py",
   "mimetype": "text/x-python",
   "name": "python",
   "nbconvert_exporter": "python",
   "pygments_lexer": "ipython3",
   "version": "3.9.16"
  }
 },
 "nbformat": 4,
 "nbformat_minor": 5
}
