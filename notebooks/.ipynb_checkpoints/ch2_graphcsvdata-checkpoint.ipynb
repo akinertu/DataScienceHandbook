{
 "cells": [
  {
   "cell_type": "code",
   "execution_count": null,
   "id": "5ade2a79-c9fc-4459-bc2b-0653a6b54697",
   "metadata": {},
   "outputs": [],
   "source": [
    "import numpy as np\n",
    "import pandas as pd\n",
    "import matplotlib.pyplot as plt\n",
    "import seaborn; seaborn.set()"
   ]
  },
  {
   "cell_type": "code",
   "execution_count": null,
   "id": "ed4e556a-58d4-4746-91dd-c42edf9892a4",
   "metadata": {},
   "outputs": [],
   "source": [
    "# Retriving data from CSV file\n",
    "data = pd.read_csv('data/president_heights.csv')\n",
    "heights = np.array(data['height(cm)'])\n",
    "print(heights)"
   ]
  },
  {
   "cell_type": "code",
   "execution_count": null,
   "id": "cae0dd8b-388c-4bf7-a419-c663f0da6750",
   "metadata": {},
   "outputs": [],
   "source": [
    "print(\"Mean height:       \", heights.mean())"
   ]
  },
  {
   "cell_type": "code",
   "execution_count": null,
   "id": "5e0795b3-92fb-42c6-8831-77e0843a7c84",
   "metadata": {
    "tags": []
   },
   "outputs": [],
   "source": [
    "plt.hist(heights)\n",
    "plt.title('Height Distribution of US Presidents')\n",
    "plt.xlabel('height (cm)')\n",
    "plt.ylabel('number')"
   ]
  }
 ],
 "metadata": {
  "kernelspec": {
   "display_name": "Python 3 (ipykernel)",
   "language": "python",
   "name": "python3"
  },
  "language_info": {
   "codemirror_mode": {
    "name": "ipython",
    "version": 3
   },
   "file_extension": ".py",
   "mimetype": "text/x-python",
   "name": "python",
   "nbconvert_exporter": "python",
   "pygments_lexer": "ipython3",
   "version": "3.9.16"
  }
 },
 "nbformat": 4,
 "nbformat_minor": 5
}
