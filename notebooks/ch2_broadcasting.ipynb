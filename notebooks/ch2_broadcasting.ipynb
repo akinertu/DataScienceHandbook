{
 "cells": [
  {
   "cell_type": "code",
   "execution_count": 14,
   "id": "2de104c0-4d45-4b61-b575-43299fe64dbb",
   "metadata": {},
   "outputs": [],
   "source": [
    "import numpy as np"
   ]
  },
  {
   "cell_type": "code",
   "execution_count": 28,
   "id": "8b5e9649-cdb8-4f1f-a50b-61bc024398f1",
   "metadata": {},
   "outputs": [
    {
     "name": "stdout",
     "output_type": "stream",
     "text": [
      "M= \n",
      " [[1. 1. 1.]\n",
      " [1. 1. 1.]] \n",
      " a= \n",
      " [0 1 2]\n",
      " M + a = \n",
      " [[1. 2. 3.]\n",
      " [1. 2. 3.]]\n"
     ]
    }
   ],
   "source": [
    "M = np.ones((2, 3))\n",
    "a = np.arange(3)\n",
    "print( 'M= \\n', M, '\\n', 'a= \\n', a)\n",
    "print( ' M + a = \\n', M + a)"
   ]
  },
  {
   "cell_type": "code",
   "execution_count": 31,
   "id": "23fe6bf7-1f68-443d-80f8-58f5a2c9a905",
   "metadata": {},
   "outputs": [
    {
     "name": "stdout",
     "output_type": "stream",
     "text": [
      "M= \n",
      " [[0]\n",
      " [1]\n",
      " [2]] \n",
      " a= \n",
      " [0 1 2]\n",
      " M + a = \n",
      " [[0 1 2]\n",
      " [1 2 3]\n",
      " [2 3 4]]\n"
     ]
    }
   ],
   "source": [
    "M = np.arange(3).reshape((3, 1))\n",
    "a = np.arange(3)\n",
    "print( 'M= \\n', M, '\\n', 'a= \\n', a)\n",
    "print( ' M + a = \\n', M + a)"
   ]
  },
  {
   "cell_type": "code",
   "execution_count": 33,
   "id": "18d37b66-ec38-4d7c-8bd7-086c07c35e4b",
   "metadata": {},
   "outputs": [
    {
     "name": "stdout",
     "output_type": "stream",
     "text": [
      "M= \n",
      " [[1. 1.]\n",
      " [1. 1.]\n",
      " [1. 1.]] \n",
      " a= \n",
      " [0 1 2]\n"
     ]
    },
    {
     "ename": "ValueError",
     "evalue": "operands could not be broadcast together with shapes (3,2) (3,) ",
     "output_type": "error",
     "traceback": [
      "\u001b[1;31m---------------------------------------------------------------------------\u001b[0m",
      "\u001b[1;31mValueError\u001b[0m                                Traceback (most recent call last)",
      "\u001b[1;32m~\\AppData\\Local\\Temp\\ipykernel_10360\\560467092.py\u001b[0m in \u001b[0;36m<module>\u001b[1;34m\u001b[0m\n\u001b[0;32m      2\u001b[0m \u001b[0ma\u001b[0m \u001b[1;33m=\u001b[0m \u001b[0mnp\u001b[0m\u001b[1;33m.\u001b[0m\u001b[0marange\u001b[0m\u001b[1;33m(\u001b[0m\u001b[1;36m3\u001b[0m\u001b[1;33m)\u001b[0m\u001b[1;33m\u001b[0m\u001b[1;33m\u001b[0m\u001b[0m\n\u001b[0;32m      3\u001b[0m \u001b[0mprint\u001b[0m\u001b[1;33m(\u001b[0m \u001b[1;34m'M= \\n'\u001b[0m\u001b[1;33m,\u001b[0m \u001b[0mM\u001b[0m\u001b[1;33m,\u001b[0m \u001b[1;34m'\\n'\u001b[0m\u001b[1;33m,\u001b[0m \u001b[1;34m'a= \\n'\u001b[0m\u001b[1;33m,\u001b[0m \u001b[0ma\u001b[0m\u001b[1;33m)\u001b[0m\u001b[1;33m\u001b[0m\u001b[1;33m\u001b[0m\u001b[0m\n\u001b[1;32m----> 4\u001b[1;33m \u001b[0mprint\u001b[0m\u001b[1;33m(\u001b[0m \u001b[1;34m' M + a = \\n'\u001b[0m\u001b[1;33m,\u001b[0m \u001b[0mM\u001b[0m \u001b[1;33m+\u001b[0m \u001b[0ma\u001b[0m\u001b[1;33m)\u001b[0m\u001b[1;33m\u001b[0m\u001b[1;33m\u001b[0m\u001b[0m\n\u001b[0m",
      "\u001b[1;31mValueError\u001b[0m: operands could not be broadcast together with shapes (3,2) (3,) "
     ]
    }
   ],
   "source": [
    "M = np.ones((3, 2))\n",
    "a = np.arange(3)\n",
    "print( 'M= \\n', M, '\\n', 'a= \\n', a)\n",
    "print( ' M + a = \\n', M + a)"
   ]
  },
  {
   "cell_type": "code",
   "execution_count": 40,
   "id": "793ed92f-c6c3-4f37-a1fe-d2d684242bf9",
   "metadata": {},
   "outputs": [
    {
     "name": "stdout",
     "output_type": "stream",
     "text": [
      "M= \n",
      " [[1. 1.]\n",
      " [1. 1.]\n",
      " [1. 1.]] \n",
      " a= \n",
      " [[0]\n",
      " [1]\n",
      " [2]]\n",
      " M + a = \n",
      " [[1. 1.]\n",
      " [2. 2.]\n",
      " [3. 3.]]\n"
     ]
    }
   ],
   "source": [
    "a = a[:, np.newaxis]\n",
    "print( 'M= \\n', M, '\\n', 'a= \\n', a)\n",
    "print( ' M + a = \\n', M + a)"
   ]
  },
  {
   "cell_type": "code",
   "execution_count": null,
   "id": "e8a2d418-e01c-43da-bfcd-d0a1c8670453",
   "metadata": {},
   "outputs": [],
   "source": []
  },
  {
   "cell_type": "code",
   "execution_count": null,
   "id": "bd0dfc0a-e7b0-420e-8b8f-0fea57222938",
   "metadata": {},
   "outputs": [],
   "source": []
  }
 ],
 "metadata": {
  "kernelspec": {
   "display_name": "Python 3 (ipykernel)",
   "language": "python",
   "name": "python3"
  },
  "language_info": {
   "codemirror_mode": {
    "name": "ipython",
    "version": 3
   },
   "file_extension": ".py",
   "mimetype": "text/x-python",
   "name": "python",
   "nbconvert_exporter": "python",
   "pygments_lexer": "ipython3",
   "version": "3.9.16"
  }
 },
 "nbformat": 4,
 "nbformat_minor": 5
}
