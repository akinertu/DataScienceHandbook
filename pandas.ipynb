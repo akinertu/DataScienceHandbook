{
 "cells": [
  {
   "cell_type": "code",
   "execution_count": null,
   "id": "0fda92a4-ff28-408d-80c8-970175f818ff",
   "metadata": {},
   "outputs": [],
   "source": [
    "import pandas as pd"
   ]
  },
  {
   "cell_type": "markdown",
   "id": "1e8ed194-a205-453e-be11-da1ed8eec3eb",
   "metadata": {},
   "source": [
    "### SERIES"
   ]
  },
  {
   "cell_type": "code",
   "execution_count": null,
   "id": "12be581b-5f66-4061-bbf9-d0bc90b98320",
   "metadata": {
    "collapsed": false,
    "jupyter": {
     "outputs_hidden": false
    }
   },
   "outputs": [],
   "source": [
    "data = pd.Series([0.25, 0.5, 0.75, 1.0], index=['a', 'b', 'c', 'd'])\n",
    "data\n",
    "data['b']"
   ]
  },
  {
   "cell_type": "markdown",
   "id": "45f533d2-74e6-419b-a13f-de63963ac5d8",
   "metadata": {},
   "source": [
    "### DATAFRAMES"
   ]
  },
  {
   "cell_type": "code",
   "execution_count": null,
   "id": "8f292994-e5a4-4f62-82a2-9d62c58ba4fa",
   "metadata": {
    "collapsed": false,
    "jupyter": {
     "outputs_hidden": false
    }
   },
   "outputs": [],
   "source": [
    "\n",
    "area = pd.Series({'California': 423967, 'Texas': 695662,\n",
    "                  'New York': 141297, 'Florida': 170312,\n",
    "                  'Illinois': 149995})\n",
    "pop = pd.Series({'California': 38332521, 'Texas': 26448193,\n",
    "                 'New York': 19651127, 'Florida': 19552860,\n",
    "                 'Illinois': 12882135})\n",
    "data = pd.DataFrame({'area':area, 'pop':pop})\n",
    "data"
   ]
  },
  {
   "cell_type": "markdown",
   "id": "da28f5ea-3a2f-4889-81d9-29da8498f2bb",
   "metadata": {},
   "source": [
    "DataFrame can be thought of as a generalization of a two-dimensional\n",
    "NumPy array, where both the rows and columns have a generalized index for access‐\n",
    "ing the data."
   ]
  }
 ],
 "metadata": {
  "kernelspec": {
   "display_name": "Python 3 (ipykernel)",
   "language": "python",
   "name": "python3"
  },
  "language_info": {
   "codemirror_mode": {
    "name": "ipython",
    "version": 3
   },
   "file_extension": ".py",
   "mimetype": "text/x-python",
   "name": "python",
   "nbconvert_exporter": "python",
   "pygments_lexer": "ipython3",
   "version": "3.9.16"
  }
 },
 "nbformat": 4,
 "nbformat_minor": 5
}
